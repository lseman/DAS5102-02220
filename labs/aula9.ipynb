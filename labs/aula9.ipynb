{
 "cells": [
  {
   "cell_type": "code",
   "execution_count": 1,
   "metadata": {},
   "outputs": [
    {
     "name": "stdout",
     "output_type": "stream",
     "text": [
      "Calculando 2^3\n",
      "Calculando 2^2\n",
      "Calculando 2^1\n",
      "Calculando 2^0\n"
     ]
    },
    {
     "data": {
      "text/plain": [
       "8"
      ]
     },
     "execution_count": 1,
     "metadata": {},
     "output_type": "execute_result"
    }
   ],
   "source": [
    "def exponencial(b, n):\n",
    "    # Exibe o processo de expansão e contração\n",
    "    print(f\"Calculando {b}^{n}\")\n",
    "    \n",
    "    # Caso base: n = 0\n",
    "    if n == 0:\n",
    "        return 1\n",
    "    # Caso recursivo\n",
    "    else:\n",
    "        return b * exponencial(b, n - 1)\n",
    "        print(f\"Resultado de {b}^{n} = {resultado}\")\n",
    "        return resultado\n",
    "\n",
    "# Exemplo de chamada da função\n",
    "exponencial(2, 3)\n"
   ]
  },
  {
   "cell_type": "markdown",
   "metadata": {},
   "source": [
    "### Complexidade de Tempo\n",
    "Esta implementação tem uma complexidade de tempo de $O(n)$. Isso ocorre porque, em cada chamada recursiva, a função diminui o valor do expoente $n$ em 1 até atingir 0, resultando em $n$ chamadas recursivas. \n",
    "\n",
    "### Explicação do Custo de Tempo\n",
    "Cada chamada recursiva realiza uma multiplicação, e há exatamente $n$ chamadas para um expoente $n$, tornando a complexidade $O(n)$."
   ]
  },
  {
   "cell_type": "code",
   "execution_count": 2,
   "metadata": {},
   "outputs": [
    {
     "name": "stdout",
     "output_type": "stream",
     "text": [
      "Calculando soma_digitos(1234)\n",
      "Último dígito: 4\n",
      "Resto 123\n",
      "Calculando soma_digitos(123)\n",
      "Último dígito: 3\n",
      "Resto 12\n",
      "Calculando soma_digitos(12)\n",
      "Último dígito: 2\n",
      "Resto 1\n",
      "Calculando soma_digitos(1)\n",
      "Resultado de soma_digitos(1) = 1\n",
      "Resultado parcial de soma_digitos(12) = 3\n",
      "Resultado parcial de soma_digitos(123) = 6\n",
      "Resultado parcial de soma_digitos(1234) = 10\n"
     ]
    },
    {
     "data": {
      "text/plain": [
       "10"
      ]
     },
     "execution_count": 2,
     "metadata": {},
     "output_type": "execute_result"
    }
   ],
   "source": [
    "def soma_digitos(n):\n",
    "    # Exibe o processo de expansão e contração\n",
    "    print(f\"Calculando soma_digitos({n})\")\n",
    "    \n",
    "    # Caso base: quando n é um único dígito\n",
    "    if n < 10:\n",
    "        print(f\"Resultado de soma_digitos({n}) = {n}\")\n",
    "        return n\n",
    "    # Caso recursivo: soma o último dígito com a soma dos dígitos restantes\n",
    "    else:\n",
    "        ultimo_digito = n % 10\n",
    "        resto = n // 10\n",
    "        print(\"Último dígito:\", ultimo_digito)\n",
    "        print(\"Resto\", resto)\n",
    "        resultado = ultimo_digito + soma_digitos(resto)\n",
    "        print(f\"Resultado parcial de soma_digitos({n}) = {resultado}\")\n",
    "        return resultado\n",
    "\n",
    "# Exemplo de chamada da função\n",
    "soma_digitos(1234) # 1 + 2 + 3 + 4 = 10\n"
   ]
  },
  {
   "cell_type": "markdown",
   "metadata": {},
   "source": [
    "### Complexidade de Tempo\n",
    "A complexidade de tempo dessa implementação é $O(\\log_{10}(n))$, pois o número de chamadas recursivas é proporcional ao número de dígitos do número $n$. Em cada chamada, o valor de $n$ é reduzido por um fator de 10 (pela divisão inteira `// 10`), o que significa que o número de dígitos decresce a cada chamada.\n",
    "\n",
    "### Explicação do Custo de Tempo\n",
    "Para um número com $d$ dígitos, a função executa $d$ chamadas recursivas. Portanto, a complexidade em termos do número de dígitos $d$ é $O(d)$, que pode ser expressa como $O(\\log_{10}(n))$, pois $d$ é aproximadamente $\\log_{10}(n)$."
   ]
  },
  {
   "cell_type": "code",
   "execution_count": 3,
   "metadata": {},
   "outputs": [
    {
     "name": "stdout",
     "output_type": "stream",
     "text": [
      "Calculando fib(5)\n",
      "Calculando fib(4)\n",
      "Calculando fib(3)\n",
      "Calculando fib(2)\n",
      "Calculando fib(1)\n",
      "Resultado de fib(1) = 1\n",
      "Calculando fib(0)\n",
      "Resultado de fib(0) = 0\n",
      "Resultado de fib(2) = 1\n",
      "Calculando fib(1)\n",
      "Resultado de fib(1) = 1\n",
      "Resultado de fib(3) = 2\n",
      "Calculando fib(2)\n",
      "Calculando fib(1)\n",
      "Resultado de fib(1) = 1\n",
      "Calculando fib(0)\n",
      "Resultado de fib(0) = 0\n",
      "Resultado de fib(2) = 1\n",
      "Resultado de fib(4) = 3\n",
      "Calculando fib(3)\n",
      "Calculando fib(2)\n",
      "Calculando fib(1)\n",
      "Resultado de fib(1) = 1\n",
      "Calculando fib(0)\n",
      "Resultado de fib(0) = 0\n",
      "Resultado de fib(2) = 1\n",
      "Calculando fib(1)\n",
      "Resultado de fib(1) = 1\n",
      "Resultado de fib(3) = 2\n",
      "Resultado de fib(5) = 5\n"
     ]
    },
    {
     "data": {
      "text/plain": [
       "5"
      ]
     },
     "execution_count": 3,
     "metadata": {},
     "output_type": "execute_result"
    }
   ],
   "source": [
    "def fib(n):\n",
    "    # Exibe o processo de expansão e contração\n",
    "    print(f\"Calculando fib({n})\")\n",
    "    \n",
    "    # Casos base: fib(0) = 0 e fib(1) = 1\n",
    "    if n == 0:\n",
    "        print(f\"Resultado de fib({n}) = 0\")\n",
    "        return 0\n",
    "    elif n == 1:\n",
    "        print(f\"Resultado de fib({n}) = 1\")\n",
    "        return 1\n",
    "    # Caso recursivo: fib(n) = fib(n-1) + fib(n-2)\n",
    "    else:\n",
    "        resultado = fib(n - 1) + fib(n - 2)\n",
    "        print(f\"Resultado de fib({n}) = {resultado}\")\n",
    "        return resultado\n",
    "\n",
    "# Exemplo de chamada da função\n",
    "fib(5)\n"
   ]
  },
  {
   "cell_type": "markdown",
   "metadata": {},
   "source": [
    "### Complexidade de Tempo\n",
    "A complexidade de tempo desta implementação é $O(2^n)$. Isso ocorre porque a função faz chamadas recursivas para `fib(n-1)` e `fib(n-2)`, resultando em um crescimento exponencial no número de chamadas.\n",
    "\n",
    "### Explicação do Custo de Tempo\n",
    "A recursão na série de Fibonacci causa um grande número de recomputações. Cada cálculo de `fib(n)` requer os valores de `fib(n-1)` e `fib(n-2)`, o que, por sua vez, gera mais duas chamadas recursivas e assim por diante. O número de chamadas para calcular `fib(n)` cresce exponencialmente com $n$, resultando em uma complexidade de tempo de $O(2^n)$."
   ]
  },
  {
   "cell_type": "code",
   "execution_count": 4,
   "metadata": {},
   "outputs": [
    {
     "name": "stdout",
     "output_type": "stream",
     "text": [
      "Array inicial: [0, 5, 2, 1, 6, 3]\n",
      "\n",
      "Usando o pivô fixo: 3 (originalmente no índice 5)\n",
      "Movendo ponteiro esquerdo (i) para a direita: posição 0, valor 0\n",
      "Ponteiro esquerdo parou: posição 1, valor 5\n",
      "Movendo ponteiro direito (j) para a esquerda: posição 4, valor 6\n",
      "Ponteiro direito parou: posição 3, valor 1\n",
      "Troca: [0, 1, 2, 5, 6, 3] (i=1, j=3)\n",
      "Movendo ponteiro esquerdo (i) para a direita: posição 1, valor 1\n",
      "Movendo ponteiro esquerdo (i) para a direita: posição 2, valor 2\n",
      "Ponteiro esquerdo parou: posição 3, valor 5\n",
      "Movendo ponteiro direito (j) para a esquerda: posição 3, valor 5\n",
      "Array após colocar o pivô 3 na posição 3: [0, 1, 2, 3, 6, 5]\n",
      "\n",
      "Array após particionamento: [0, 1, 2, 3, 6, 5]\n",
      "Índice do pivô: 3\n"
     ]
    }
   ],
   "source": [
    "def particionamento(arr, inicio, fim):\n",
    "    # Define o valor fixo do pivô\n",
    "    pivo = 3\n",
    "    pivo_index = arr.index(pivo)\n",
    "    print(f\"\\nUsando o pivô fixo: {pivo} (originalmente no índice {pivo_index})\")\n",
    "\n",
    "    # Inicializa os ponteiros\n",
    "    i = inicio\n",
    "    j = fim - 1\n",
    "\n",
    "    # Processa o particionamento com movimentação dos ponteiros\n",
    "    while i <= j:\n",
    "        # Move o ponteiro esquerdo para a direita até encontrar um valor >= ao pivô\n",
    "        while i <= j and arr[i] < pivo:\n",
    "            print(f\"Movendo ponteiro esquerdo (i) para a direita: posição {i}, valor {arr[i]}\")\n",
    "            i += 1\n",
    "        if i <= j:\n",
    "            print(f\"Ponteiro esquerdo parou: posição {i}, valor {arr[i]}\")\n",
    "\n",
    "        # Move o ponteiro direito para a esquerda até encontrar um valor <= ao pivô\n",
    "        while j >= i and arr[j] > pivo:\n",
    "            print(f\"Movendo ponteiro direito (j) para a esquerda: posição {j}, valor {arr[j]}\")\n",
    "            j -= 1\n",
    "        if j >= i:\n",
    "            print(f\"Ponteiro direito parou: posição {j}, valor {arr[j]}\")\n",
    "\n",
    "        # Troca os valores dos ponteiros, se eles ainda não se cruzaram\n",
    "        if i < j:\n",
    "            arr[i], arr[j] = arr[j], arr[i]\n",
    "            print(f\"Troca: {arr} (i={i}, j={j})\")\n",
    "\n",
    "    # Coloca o pivô na posição correta (no índice `i`)\n",
    "    arr[i], arr[fim] = arr[fim], arr[i]\n",
    "    print(f\"Array após colocar o pivô {pivo} na posição {i}: {arr}\")\n",
    "\n",
    "    # Retorna o índice do pivô que está na posição correta\n",
    "    return i\n",
    "\n",
    "# Exemplo de uso com o array [0, 5, 2, 1, 6, 3]\n",
    "array = [0, 5, 2, 1, 6, 3]\n",
    "print(\"Array inicial:\", array)\n",
    "indice_pivo = particionamento(array, 0, len(array) - 1)\n",
    "print(\"\\nArray após particionamento:\", array)\n",
    "print(\"Índice do pivô:\", indice_pivo)\n"
   ]
  },
  {
   "cell_type": "code",
   "execution_count": 7,
   "metadata": {},
   "outputs": [
    {
     "name": "stdout",
     "output_type": "stream",
     "text": [
      "Array inicial: [0, 5, 2, 1, 6, 3]\n",
      "\n",
      "Usando o pivô fixo: 3 (movido para o final)\n",
      "Troca: [0, 1, 2, 5, 6, 3] (i=1, j=3)\n",
      "Array após colocar o pivô na posição 3: [0, 1, 2, 3, 6, 5]\n",
      "\n",
      "Array após particionamento recursivo: [0, 1, 2, 3, 6, 5]\n"
     ]
    }
   ],
   "source": [
    "def particionamento_recursivo(arr, inicio, fim):\n",
    "    # Caso base: se o subarray tem menos de dois elementos, não precisa particionar\n",
    "    if inicio >= fim:\n",
    "        return\n",
    "\n",
    "    # Define o pivô fixo como 3\n",
    "    pivo = 3\n",
    "    if pivo not in arr[inicio:fim + 1]:  # Se o pivô não estiver no subarray, não há necessidade de particionar\n",
    "        return\n",
    "\n",
    "    # Encontra o índice do pivô e move-o temporariamente para o fim\n",
    "    pivo_index = arr.index(pivo)\n",
    "    arr[pivo_index], arr[fim] = arr[fim], arr[pivo_index]\n",
    "    print(f\"\\nUsando o pivô fixo: {pivo} (movido para o final)\")\n",
    "\n",
    "    # Inicializa os ponteiros\n",
    "    i = inicio\n",
    "    j = fim - 1\n",
    "\n",
    "    # Processa o particionamento com movimentação dos ponteiros\n",
    "    while i <= j:\n",
    "        # Move o ponteiro esquerdo para a direita até encontrar um valor >= ao pivô\n",
    "        while i <= j and arr[i] < pivo:\n",
    "            i += 1\n",
    "\n",
    "        # Move o ponteiro direito para a esquerda até encontrar um valor < ao pivô\n",
    "        while i <= j and arr[j] >= pivo:\n",
    "            j -= 1\n",
    "\n",
    "        # Troca os valores dos ponteiros, se eles ainda não se cruzaram\n",
    "        if i < j:\n",
    "            arr[i], arr[j] = arr[j], arr[i]\n",
    "            print(f\"Troca: {arr} (i={i}, j={j})\")\n",
    "\n",
    "    # Coloca o pivô na posição correta (index `i`)\n",
    "    arr[i], arr[fim] = arr[fim], arr[i]\n",
    "    print(f\"Array após colocar o pivô na posição {i}: {arr}\")\n",
    "\n",
    "    # Recursivamente particiona os subarrays à esquerda e à direita do índice do pivô\n",
    "    particionamento_recursivo(arr, inicio, i - 1)\n",
    "    particionamento_recursivo(arr, i + 1, fim)\n",
    "\n",
    "# Exemplo de uso com o array [0, 5, 2, 1, 6, 3]\n",
    "array = [0, 5, 2, 1, 6, 3]\n",
    "print(\"Array inicial:\", array)\n",
    "particionamento_recursivo(array, 0, len(array) - 1)\n",
    "print(\"\\nArray após particionamento recursivo:\", array)\n"
   ]
  },
  {
   "cell_type": "markdown",
   "metadata": {},
   "source": [
    "### Explicação do Algoritmo\n",
    "1. **Escolha do Pivô**: O último elemento do array é escolhido como pivô.\n",
    "2. **Ponteiros e Trocas**: O ponteiro `i` mantém o índice de elementos menores que o pivô. A cada iteração, se um elemento `arr[j]` é menor que o pivô, ele é trocado para a posição indicada pelo ponteiro `i`.\n",
    "3. **Posicionamento do Pivô**: Após a iteração, o pivô é colocado entre os elementos menores e maiores que ele.\n",
    "4. **Resultado**: Ao final, o array é dividido em duas partes, onde os elementos à esquerda do pivô são menores que ele, e os elementos à direita são maiores.\n",
    "\n",
    "### Complexidade de Tempo\n",
    "A complexidade de tempo desta implementação é $O(n)$, onde $n$ é o número de elementos no intervalo entre `inicio` e `fim`. Isso ocorre porque o particionamento realiza uma única varredura do array para reposicionar os elementos em relação ao pivô.\n",
    "\n",
    "### Explicação da Complexidade\n",
    "Durante o processo de particionamento, o algoritmo percorre cada elemento do array uma vez para comparar com o pivô e, potencialmente, realizar uma troca. Isso resulta em uma complexidade linear $O(n)$. \n",
    "\n",
    "Em um algoritmo de ordenação como o QuickSort, que utiliza a função de particionamento, a complexidade média é $O(n \\log n)$ devido à repetição do particionamento em várias divisões do array."
   ]
  }
 ],
 "metadata": {
  "kernelspec": {
   "display_name": ".venv",
   "language": "python",
   "name": "python3"
  },
  "language_info": {
   "codemirror_mode": {
    "name": "ipython",
    "version": 3
   },
   "file_extension": ".py",
   "mimetype": "text/x-python",
   "name": "python",
   "nbconvert_exporter": "python",
   "pygments_lexer": "ipython3",
   "version": "3.12.7"
  }
 },
 "nbformat": 4,
 "nbformat_minor": 2
}
