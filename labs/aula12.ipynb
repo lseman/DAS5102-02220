{
 "cells": [
  {
   "cell_type": "code",
   "execution_count": 2,
   "metadata": {},
   "outputs": [],
   "source": [
    "class TreeNode:\n",
    "  def __init__(self, val, left=None, right=None):\n",
    "    self.value = val\n",
    "    self.leftChild = left\n",
    "    self.rightChild = right\n",
    "\n",
    "  def __str__(self):\n",
    "    return '({}, {}, {})'.format(self.leftChild, self.value, self.rightChild)\n",
    "\n",
    "  def __repr__(self):\n",
    "    return str(self)"
   ]
  },
  {
   "cell_type": "code",
   "execution_count": 3,
   "metadata": {},
   "outputs": [
    {
     "name": "stdout",
     "output_type": "stream",
     "text": [
      "((None, 1, None), 5, (None, 10, None))\n"
     ]
    }
   ],
   "source": [
    "# Criação \"manual\" de uma árvore binária com três nós\n",
    "node1 = TreeNode(1)\n",
    "node2 = TreeNode(10)\n",
    "root = TreeNode(5, node1, node2)\n",
    "print(root)"
   ]
  },
  {
   "cell_type": "code",
   "execution_count": 3,
   "metadata": {},
   "outputs": [
    {
     "name": "stdout",
     "output_type": "stream",
     "text": [
      "Root: 10\n",
      "    L--- 6\n",
      "        L--- 4\n",
      "        R--- 7\n",
      "    R--- 14\n",
      "        L--- 12\n",
      "        R--- 15\n"
     ]
    }
   ],
   "source": [
    "# Define a larger tree for visualization\n",
    "class TreeNode:\n",
    "    def __init__(self, val, left=None, right=None):\n",
    "        self.value = val\n",
    "        self.leftChild = left\n",
    "        self.rightChild = right\n",
    "\n",
    "    def __str__(self):\n",
    "        return '({}, {}, {})'.format(self.leftChild, self.value, self.rightChild)\n",
    "\n",
    "    def __repr__(self):\n",
    "        return str(self)\n",
    "\n",
    "\n",
    "def print_tree(node, level=0, prefix=\"Root: \"):\n",
    "    \"\"\"Recursively prints the tree structure.\"\"\"\n",
    "    if node is not None:\n",
    "        print(\" \" * (4 * level) + prefix + str(node.value))\n",
    "        if node.leftChild or node.rightChild:  # Only continue if there are children\n",
    "            print_tree(node.leftChild, level + 1, prefix=\"L--- \")\n",
    "            print_tree(node.rightChild, level + 1, prefix=\"R--- \")\n",
    "\n",
    "\n",
    "# Create a larger tree\n",
    "node4 = TreeNode(4)\n",
    "node5 = TreeNode(7)\n",
    "node6 = TreeNode(12)\n",
    "node7 = TreeNode(15)\n",
    "node2 = TreeNode(6, node4, node5)\n",
    "node3 = TreeNode(14, node6, node7)\n",
    "root = TreeNode(10, node2, node3)\n",
    "\n",
    "# Visualize the tree\n",
    "print_tree(root)\n"
   ]
  },
  {
   "cell_type": "code",
   "execution_count": 5,
   "metadata": {},
   "outputs": [
    {
     "name": "stdout",
     "output_type": "stream",
     "text": [
      "(None, 10, None)\n"
     ]
    }
   ],
   "source": [
    "def search(value, node):\n",
    "    # Base case: If the node is nonexistent\n",
    "    # or we've found the value we're looking for:\n",
    "    if node is None or node.value == value:\n",
    "      return node\n",
    "    # If the value is less than the current node, perform\n",
    "    # search on the left child:\n",
    "    elif value < node.value:\n",
    "      return search(value, node.leftChild)\n",
    "    # If the value is less than the current node, perform\n",
    "    # search on the right child:\n",
    "    else: # value > node.value\n",
    "      return search(value, node.rightChild)\n",
    "    \n",
    "print(search(10, root)) # (None, 10, None)"
   ]
  },
  {
   "cell_type": "code",
   "execution_count": 7,
   "metadata": {},
   "outputs": [],
   "source": [
    "def insert(value, node):\n",
    "  if value < node.value:\n",
    "    # If the left child does not exist, we want to insert\n",
    "    # the value as the left child:\n",
    "    if node.leftChild is None:\n",
    "      node.leftChild = TreeNode(value)\n",
    "    else:\n",
    "      insert(value, node.leftChild)\n",
    "  elif value > node.value:\n",
    "    # If the right child does not exist, we want to insert\n",
    "    # the value as the right child:\n",
    "    if node.rightChild is None:\n",
    "      node.rightChild = TreeNode(value)\n",
    "    else:\n",
    "      insert(value, node.rightChild)\n",
    "\n",
    "insert(7, root)"
   ]
  },
  {
   "cell_type": "code",
   "execution_count": 8,
   "metadata": {},
   "outputs": [
    {
     "name": "stdout",
     "output_type": "stream",
     "text": [
      "((None, 1, None), 5, ((None, 7, None), 10, None))\n"
     ]
    }
   ],
   "source": [
    "print(root) # ((None, 1, None), 5, ((None, 10, None), 7, None))"
   ]
  },
  {
   "cell_type": "code",
   "execution_count": 9,
   "metadata": {},
   "outputs": [],
   "source": [
    "def delete(valueToDelete, node):\n",
    "  # The base case is when we've hit the bottom of the tree,\n",
    "  # and the parent node has no children:\n",
    "  if node is None:\n",
    "    return None\n",
    "  # If the value we're deleting is less or greater than the current node,\n",
    "  # we set the left or right child respectively to be\n",
    "  # the return value of a recursive call of this very method on the current\n",
    "  # node's left or right subtree.\n",
    "  elif valueToDelete < node.value:\n",
    "    node.leftChild = delete(valueToDelete, node.leftChild)\n",
    "    # We return the current node (and its subtree if existent) to\n",
    "    # be used as the new value of its parent's left or right child:\n",
    "    return node\n",
    "  elif valueToDelete > node.value:\n",
    "    node.rightChild = delete(valueToDelete, node.rightChild)\n",
    "    return node\n",
    "    # If the current node is the one we want to delete:\n",
    "  elif valueToDelete == node.value:\n",
    "    # If the current node has no left child, we delete it by\n",
    "    # returning its right child (and its subtree if existent)\n",
    "    # to be its parent's new subtree:\n",
    "    if node.leftChild is None:\n",
    "      return node.rightChild\n",
    "      # (If the current node has no left OR right child, this ends up\n",
    "      # being None as per the first line of code in this function.)\n",
    "    elif node.rightChild is None:\n",
    "      return node.leftChild\n",
    "    # If the current node has two children, we delete the current node\n",
    "    # by calling the lift function (below), which changes the current node's\n",
    "    # value to the value of its successor node:\n",
    "    else:\n",
    "      node.rightChild = lift(node.rightChild, node)\n",
    "      return node\n",
    "\n",
    "def lift(node, nodeToDelete):\n",
    "  # If the current node of this function has a left child,\n",
    "  # we recursively call this function to continue down\n",
    "  # the left subtree to find the successor node.\n",
    "  if node.leftChild:\n",
    "    node.leftChild = lift(node.leftChild, nodeToDelete)\n",
    "    return node\n",
    "    # If the current node has no left child, that means the current node\n",
    "    # of this function is the successor node, and we take its value\n",
    "    # and make it the new value of the node that we're deleting:\n",
    "  else:\n",
    "    nodeToDelete.value = node.value\n",
    "    # We return the successor node's right child to be now used\n",
    "    # as its parent's left child:\n",
    "    return node.rightChild"
   ]
  },
  {
   "cell_type": "code",
   "execution_count": 11,
   "metadata": {},
   "outputs": [
    {
     "name": "stdout",
     "output_type": "stream",
     "text": [
      "4\n"
     ]
    }
   ],
   "source": [
    "def numel(node):\n",
    "    if node is None:\n",
    "        return 0\n",
    "    return 1 + numel(node.leftChild) + numel(node.rightChild)\n",
    "\n",
    "print(numel(root)) # 4"
   ]
  },
  {
   "cell_type": "code",
   "execution_count": 12,
   "metadata": {},
   "outputs": [
    {
     "name": "stdout",
     "output_type": "stream",
     "text": [
      "3\n"
     ]
    }
   ],
   "source": [
    "def levels(node):\n",
    "    if node is None:\n",
    "        return 0\n",
    "    return 1 + max(levels(node.leftChild), levels(node.rightChild))\n",
    "\n",
    "print(levels(root)) # 3"
   ]
  },
  {
   "cell_type": "code",
   "execution_count": 14,
   "metadata": {},
   "outputs": [
    {
     "name": "stdout",
     "output_type": "stream",
     "text": [
      "(((None, 1, None), 5, None), 7, (None, 10, None))\n"
     ]
    }
   ],
   "source": [
    "def tree_to_sorted_list(node):\n",
    "    if node is None:\n",
    "        return []\n",
    "    return tree_to_sorted_list(node.leftChild) + [node.value] + tree_to_sorted_list(node.rightChild)\n",
    "\n",
    "# Função para construir uma árvore balanceada a partir de uma lista ordenada\n",
    "def sorted_list_to_balanced_tree(values):\n",
    "    if not values:\n",
    "        return None\n",
    "    mid = len(values) // 2\n",
    "    return TreeNode(\n",
    "        values[mid],\n",
    "        left=sorted_list_to_balanced_tree(values[:mid]),\n",
    "        right=sorted_list_to_balanced_tree(values[mid+1:])\n",
    "    )\n",
    "\n",
    "# Função para balancear a árvore\n",
    "def balance(node):\n",
    "    sorted_values = tree_to_sorted_list(node)\n",
    "    return sorted_list_to_balanced_tree(sorted_values)\n",
    "\n",
    "root = balance(root)\n",
    "print(root) # (((None, 1, None), 5, None), 7, (None, 10, None))"
   ]
  }
 ],
 "metadata": {
  "kernelspec": {
   "display_name": ".venv",
   "language": "python",
   "name": "python3"
  },
  "language_info": {
   "codemirror_mode": {
    "name": "ipython",
    "version": 3
   },
   "file_extension": ".py",
   "mimetype": "text/x-python",
   "name": "python",
   "nbconvert_exporter": "python",
   "pygments_lexer": "ipython3",
   "version": "3.12.7"
  }
 },
 "nbformat": 4,
 "nbformat_minor": 2
}
