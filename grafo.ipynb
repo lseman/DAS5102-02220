{
 "cells": [
  {
   "cell_type": "code",
   "execution_count": 1,
   "metadata": {},
   "outputs": [
    {
     "name": "stdout",
     "output_type": "stream",
     "text": [
      "Graph:\n",
      "Cidade A: Cidade B (1.00), Cidade C (1.00)\n",
      "Cidade B: Cidade A (1.00), Cidade D (1.00)\n",
      "Cidade C: Cidade A (1.00), Cidade E (1.00)\n",
      "Cidade D: Cidade B (1.00)\n",
      "Cidade E: Cidade C (1.00)\n"
     ]
    }
   ],
   "source": [
    "from typing import Dict, Set, Optional, List\n",
    "import heapq\n",
    "\n",
    "class Graph:\n",
    "    def __init__(self):\n",
    "        self._adjacency: Dict[str, Dict[str, float]] = {}\n",
    "    \n",
    "    def add_node(self, name: str) -> None:\n",
    "        \"\"\"\n",
    "        Add a node to the graph using its name as identifier.\n",
    "        \"\"\"\n",
    "        if name in self._adjacency:\n",
    "            raise ValueError(f\"Node '{name}' already exists.\")\n",
    "        self._adjacency[name] = {}\n",
    "\n",
    "    def add_edge(self, source: str, target: str, weight: float = 1.0) -> None:\n",
    "        \"\"\"\n",
    "        Add an undirected edge between two nodes.\n",
    "        Default weight is 1.0 for unweighted graphs.\n",
    "        \"\"\"\n",
    "        if source not in self._adjacency or target not in self._adjacency:\n",
    "            raise ValueError(\"Both nodes must exist before creating an edge.\")\n",
    "            \n",
    "        self._adjacency[source][target] = weight\n",
    "        self._adjacency[target][source] = weight\n",
    "\n",
    "    def get_neighbors(self, node: str) -> Dict[str, float]:\n",
    "        \"\"\"Get all neighbors of a node and their distances.\"\"\"\n",
    "        if node not in self._adjacency:\n",
    "            raise ValueError(f\"Node '{node}' does not exist.\")\n",
    "        return self._adjacency[node].copy()\n",
    "\n",
    "    def __str__(self) -> str:\n",
    "        \"\"\"String representation of the graph.\"\"\"\n",
    "        result = [\"Graph:\"]\n",
    "        for node in sorted(self._adjacency):\n",
    "            neighbors = \", \".join(f\"{neighbor} ({weight:.2f})\" \n",
    "                                for neighbor, weight in sorted(self._adjacency[node].items()))\n",
    "            result.append(f\"{node}: {neighbors}\")\n",
    "        return \"\\n\".join(result)\n",
    "\n",
    "# Example usage\n",
    "def main():\n",
    "    # Create simple graph\n",
    "    graph = Graph()\n",
    "    \n",
    "    # Adding nodes\n",
    "    for city in ['Cidade A', 'Cidade B', 'Cidade C', 'Cidade D', 'Cidade E']:\n",
    "        graph.add_node(city)\n",
    "    \n",
    "    # Adding edges\n",
    "    edges = [\n",
    "        ('Cidade A', 'Cidade B'),\n",
    "        ('Cidade A', 'Cidade C'),\n",
    "        ('Cidade B', 'Cidade D'),\n",
    "        ('Cidade C', 'Cidade E')\n",
    "    ]\n",
    "    \n",
    "    for source, target in edges:\n",
    "        graph.add_edge(source, target)\n",
    "    \n",
    "    print(graph)\n",
    "\n",
    "if __name__ == \"__main__\":\n",
    "    main()"
   ]
  }
 ],
 "metadata": {
  "kernelspec": {
   "display_name": ".venv",
   "language": "python",
   "name": "python3"
  },
  "language_info": {
   "codemirror_mode": {
    "name": "ipython",
    "version": 3
   },
   "file_extension": ".py",
   "mimetype": "text/x-python",
   "name": "python",
   "nbconvert_exporter": "python",
   "pygments_lexer": "ipython3",
   "version": "3.12.7"
  }
 },
 "nbformat": 4,
 "nbformat_minor": 2
}
