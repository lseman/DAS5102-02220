{
 "cells": [
  {
   "cell_type": "markdown",
   "metadata": {},
   "source": [
    "# Busca Linear"
   ]
  },
  {
   "cell_type": "code",
   "execution_count": 49,
   "metadata": {},
   "outputs": [],
   "source": [
    "def busca_linear(lista, valor):\n",
    "    for i in range(len(lista)):\n",
    "        if lista[i] == valor:\n",
    "            return i\n",
    "    return None"
   ]
  },
  {
   "cell_type": "code",
   "execution_count": null,
   "metadata": {},
   "outputs": [],
   "source": [
    "lista = [3, 5, 2, 9, 6]\n",
    "valor = 9\n",
    "\n",
    "resultado = busca_linear(lista, valor)\n",
    "print(resultado)  # Saída: 3\n",
    "\n",
    "valor_nao_existe = 7\n",
    "resultado = busca_linear(lista, valor_nao_existe)\n",
    "print(resultado)  # Saída: None"
   ]
  },
  {
   "cell_type": "code",
   "execution_count": null,
   "metadata": {},
   "outputs": [],
   "source": [
    "import matplotlib.pyplot as plt\n",
    "import random\n",
    "plt.style.use('ggplot')\n",
    "\n",
    "\n",
    "x = []\n",
    "y = []\n",
    "\n",
    "for n in range(1,100000,5000):\n",
    "    # cria um array de tamanho n\n",
    "    array = [random.randint(0,100) for _ in range(n)]\n",
    "    # mede o tempo da busca (procurando pelo valor -1)\n",
    "    t = %timeit -o -r 3 -n 10 -q busca_linear(array, -1)\n",
    "    # guarda os valores\n",
    "    x.append(n)\n",
    "    y.append(t.best)\n",
    "\n",
    "# mostra o gráfico\n",
    "plt.xlabel('n')\n",
    "plt.ylabel('tempo')\n",
    "plt.plot(x,y)\n",
    "plt.show()"
   ]
  },
  {
   "cell_type": "markdown",
   "metadata": {},
   "source": [
    "# Busca Linear Ordenada"
   ]
  },
  {
   "cell_type": "code",
   "execution_count": 52,
   "metadata": {},
   "outputs": [],
   "source": [
    "def busca_linear_ordenado(lista, valor):\n",
    "    for i in range(len(lista)):\n",
    "        if lista[i] == valor:\n",
    "            return i\n",
    "        elif lista[i] > valor:\n",
    "            return None  # Se o valor atual é maior que o valor procurado, podemos parar a busca\n",
    "    return None"
   ]
  },
  {
   "cell_type": "code",
   "execution_count": null,
   "metadata": {},
   "outputs": [],
   "source": [
    "lista = [1, 3, 5, 7, 9, 11]\n",
    "valor = 7\n",
    "\n",
    "resultado = busca_linear_ordenado(lista, valor)\n",
    "print(resultado)  # Saída: 3\n",
    "\n",
    "valor_nao_existe = 8\n",
    "resultado = busca_linear_ordenado(lista, valor_nao_existe)\n",
    "print(resultado)  # Saída: None"
   ]
  },
  {
   "cell_type": "code",
   "execution_count": null,
   "metadata": {},
   "outputs": [],
   "source": [
    "import matplotlib.pyplot as plt\n",
    "import random\n",
    "import timeit\n",
    "import numpy as np\n",
    "\n",
    "x = []\n",
    "y = []\n",
    "\n",
    "for n in range(1, 100000, 5000):\n",
    "    # cria um array de tamanho n\n",
    "    array = [random.randint(0, 10000) for _ in range(n)]\n",
    "    array.sort()\n",
    "    \n",
    "    # mede o tempo da busca (procurando pelo valor -1)\n",
    "    t = timeit.timeit(lambda: busca_linear_ordenado(array, -1), number=1000)\n",
    "    \n",
    "    # guarda os valores\n",
    "    x.append(n)\n",
    "    y.append(t / 1000)  # Média do tempo por execução\n",
    "\n",
    "# mostra o gráfico\n",
    "plt.xlabel('n')\n",
    "plt.ylabel('tempo')\n",
    "plt.plot(x, y)\n",
    "# plot the trend line\n",
    "z = np.polyfit(x, y, 1)\n",
    "\n",
    "p = np.poly1d(z)\n",
    "plt.plot(x, p(x), \"r--\")\n",
    "plt.show()"
   ]
  },
  {
   "cell_type": "markdown",
   "metadata": {},
   "source": [
    "# Binary Search"
   ]
  },
  {
   "cell_type": "code",
   "execution_count": 55,
   "metadata": {},
   "outputs": [],
   "source": [
    "def busca_binaria(lista, valor):\n",
    "    inicio = 0\n",
    "    fim = len(lista) - 1\n",
    "    \n",
    "    while inicio <= fim:\n",
    "        meio = (inicio + fim) // 2\n",
    "        if lista[meio] == valor:\n",
    "            return meio\n",
    "        elif lista[meio] < valor:\n",
    "            inicio = meio + 1\n",
    "        else:\n",
    "            fim = meio - 1\n",
    "    \n",
    "    return None"
   ]
  },
  {
   "cell_type": "code",
   "execution_count": null,
   "metadata": {},
   "outputs": [],
   "source": [
    "lista = [1, 3, 5, 7, 9, 11, 13]\n",
    "valor = 7\n",
    "\n",
    "resultado = busca_binaria(lista, valor)\n",
    "print(resultado)  # Saída: 3\n",
    "\n",
    "valor_nao_existe = 4\n",
    "resultado = busca_binaria(lista, valor_nao_existe)\n",
    "print(resultado)  # Saída: None"
   ]
  },
  {
   "cell_type": "code",
   "execution_count": null,
   "metadata": {},
   "outputs": [],
   "source": [
    "import matplotlib.pyplot as plt\n",
    "import random\n",
    "size    = [] # tamanho do problema\n",
    "timeBL  = [] # tempo de busca linear\n",
    "timeBLO = [] # tempo de busca linear ordenado\n",
    "timeBB  = [] # tempo deo busca binaria\n",
    "timeIN = []\n",
    "timeBL2 = []\n",
    "\n",
    "for n in range(1,2000,100):\n",
    "  array = [random.randint(0,100000) for _ in range(n)]\n",
    "  array.sort()\n",
    "  t1 = %timeit -o -r 1 -n 100 -q busca_linear(array, -1)\n",
    "  t2 = %timeit -o -r 1 -n 100 -q busca_linear_ordenado(arrays, -1)\n",
    "  t3 = %timeit -o -r 1 -n 100 -q busca_binaria(arrays, -1)\n",
    "  size.append(n)\n",
    "  timeBL.append(t1.best)\n",
    "  timeBLO.append(t2.best)\n",
    "  timeBB.append(t3.best)\n",
    "plt.plot(size, timeBL,  label='busca linear')\n",
    "plt.plot(size, timeBLO, label='busca ordenada')\n",
    "plt.plot(size, timeBB,  label='busca binaria')\n",
    "plt.xlabel('n')\n",
    "plt.ylabel('time')\n",
    "plt.legend(loc='upper left')"
   ]
  }
 ],
 "metadata": {
  "kernelspec": {
   "display_name": ".venv",
   "language": "python",
   "name": "python3"
  },
  "language_info": {
   "codemirror_mode": {
    "name": "ipython",
    "version": 3
   },
   "file_extension": ".py",
   "mimetype": "text/x-python",
   "name": "python",
   "nbconvert_exporter": "python",
   "pygments_lexer": "ipython3",
   "version": "3.12.5"
  }
 },
 "nbformat": 4,
 "nbformat_minor": 2
}
