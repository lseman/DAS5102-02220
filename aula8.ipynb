{
 "cells": [
  {
   "cell_type": "code",
   "execution_count": 10,
   "metadata": {},
   "outputs": [
    {
     "name": "stdout",
     "output_type": "stream",
     "text": [
      "[10]\n",
      "[10, 20]\n",
      "20\n",
      "20\n",
      "10\n"
     ]
    }
   ],
   "source": [
    "class Pilha:\n",
    "    def __init__(self):\n",
    "        # Usaremos uma lista para armazenar os itens da pilha\n",
    "        self.items = []\n",
    "\n",
    "    def push(self, item):\n",
    "        # Adiciona um item no topo da pilha\n",
    "        self.items.append(item)\n",
    "\n",
    "    def pop(self):\n",
    "        # Remove e retorna o item do topo da pilha, se ela não estiver vazia\n",
    "        if not self.is_empty():\n",
    "            return self.items.pop()\n",
    "        else:\n",
    "            raise IndexError(\"Pilha vazia! Não é possível remover elementos.\")\n",
    "\n",
    "    def read(self):\n",
    "        # Retorna o item do topo da pilha sem removê-lo, se ela não estiver vazia\n",
    "        if not self.is_empty():\n",
    "            return self.items[-1]\n",
    "        else:\n",
    "            raise IndexError(\"Pilha vazia! Não é possível ler o topo.\")\n",
    "\n",
    "    def is_empty(self):\n",
    "        # Verifica se a pilha está vazia\n",
    "        return len(self.items) == 0\n",
    "\n",
    "    def __str__(self):\n",
    "        return str(self.items)\n",
    "\n",
    "# Exemplo de uso\n",
    "pilha = Pilha()\n",
    "pilha.push(10)\n",
    "print(pilha)         # Saída: [10]\n",
    "pilha.push(20)\n",
    "print(pilha)         # Saída: [10, 20]\n",
    "print(pilha.read())  # Saída: 20\n",
    "print(pilha.pop())   # Saída: 20\n",
    "print(pilha.pop())   # Saída: 10\n"
   ]
  },
  {
   "cell_type": "code",
   "execution_count": 1,
   "metadata": {},
   "outputs": [
    {
     "name": "stdout",
     "output_type": "stream",
     "text": [
      "O código não está balanceado!\n"
     ]
    }
   ],
   "source": [
    "class Pilha:\n",
    "    def __init__(self):\n",
    "        # Usaremos uma lista para armazenar os itens da pilha\n",
    "        self.items = []\n",
    "\n",
    "    def push(self, item):\n",
    "        # Adiciona um item no topo da pilha\n",
    "        self.items.append(item)\n",
    "\n",
    "    def pop(self):\n",
    "        # Remove e retorna o item do topo da pilha, se ela não estiver vazia\n",
    "        if not self.is_empty():\n",
    "            return self.items.pop()\n",
    "        else:\n",
    "            raise IndexError(\"Pilha vazia! Não é possível remover elementos.\")\n",
    "\n",
    "    def read(self):\n",
    "        # Retorna o item do topo da pilha sem removê-lo, se ela não estiver vazia\n",
    "        if not self.is_empty():\n",
    "            return self.items[-1]\n",
    "        else:\n",
    "            raise IndexError(\"Pilha vazia! Não é possível ler o topo.\")\n",
    "\n",
    "    def is_empty(self):\n",
    "        # Verifica se a pilha está vazia\n",
    "        return len(self.items) == 0\n",
    "\n",
    "def verifica_balanceamento(codigo):\n",
    "    pilha = Pilha()\n",
    "    pares = {')': '(', ']': '[', '}': '{'}\n",
    "    \n",
    "    for linha in codigo:\n",
    "        for char in linha:\n",
    "            if char in '({[':\n",
    "                pilha.push(char)  # Empilha aberturas\n",
    "            elif char in ')}]':\n",
    "                if pilha.is_empty() or pilha.pop() != pares[char]:\n",
    "                    return False  # Encontrou um fechamento que não corresponde\n",
    "    return pilha.is_empty()  # Verifica se há aberturas não fechadas\n",
    "\n",
    "# Testando com o código fornecido\n",
    "codigo = [\n",
    "    'int main() {',\n",
    "    '  for (int i=0; i< 10; i++)',\n",
    "    '    if (n == 5) {',\n",
    "    'int a[ = {0};',\n",
    "    '    }',\n",
    "    '  }',\n",
    "    '  if (2 + 2 == 4 {',\n",
    "    '    int b = 0;',\n",
    "    '  }',\n",
    "    '  return 0;',\n",
    "    '}'\n",
    "]\n",
    "\n",
    "if verifica_balanceamento(codigo):\n",
    "    print(\"O código está balanceado!\")\n",
    "else:\n",
    "    print(\"O código não está balanceado!\")\n"
   ]
  },
  {
   "cell_type": "markdown",
   "metadata": {},
   "source": [
    "Em Python, o comportamento de desempenho das operações de inserção e remoção em uma lista depende de onde essas operações ocorrem.\n",
    "\n",
    "### Inserção e Remoção no Início da Lista (índice 0):\n",
    "- **Remoção no início (`pop(0)`):** Python lista é implementada como um array dinâmico, e a remoção do primeiro elemento (`pop(0)`) tem uma ordem de crescimento de **O(n)**, onde **n** é o tamanho da lista. Isso acontece porque todos os elementos à direita precisam ser deslocados uma posição à esquerda.\n",
    "- **Inserção no final (`append`)**: A operação `append` em Python é **O(1)** amortizado, ou seja, inserir no final é eficiente.\n",
    "\n",
    "### Inserção e Remoção no Final da Lista (índice -1):\n",
    "- **Remoção no final (`pop()`):** A operação `pop()` no final da lista tem complexidade **O(1)**, já que não é necessário deslocar os outros elementos.\n",
    "- **Inserção no início (`insert(0, item)`):** Inserir no início de uma lista com `insert(0, item)` também tem complexidade **O(n)**, já que todos os elementos precisam ser deslocados para a direita.\n",
    "\n",
    "### Análise do Caso da Fila:\n",
    "Como uma fila segue o princípio FIFO (o primeiro a entrar é o primeiro a sair), temos que:\n",
    "- Inserir elementos no final.\n",
    "- Remover ou ler elementos no início.\n",
    "\n",
    "Se considerarmos o **início da fila como o índice 0 da lista**, a inserção é eficiente (`append` no final), mas a **remoção será custosa**, com complexidade **O(n)**, já que remover do início da lista implica em deslocar todos os elementos subsequentes.\n",
    "\n",
    "Por outro lado, **se o início da fila for no final da lista (índice -1)**:\n",
    "- A remoção será eficiente com `pop()` (O(1)).\n",
    "- Porém, a inserção no início da lista seria custosa (O(n)).\n",
    "\n",
    "### Conclusão:\n",
    "É melhor que o **início da fila esteja no índice 0**, ou seja, remover do início e inserir no final. Isso permite que as operações de **inserção (`append`) sejam O(1)** e a operação de **remoção (`pop(0)`) tenha um custo de O(n)**. Para grandes volumes de operações de fila, isso pode ser melhorado com coleções como `deque`, que são otimizadas para ambos os casos.\n",
    "\n",
    "**Alternativa recomendada**: Para evitar o custo de O(n) em `pop(0)`, podemos usar a classe `deque` da biblioteca `collections` que oferece eficiência O(1) tanto para inserções no final quanto para remoções no início.\n",
    "\n",
    "```python\n",
    "from collections import deque\n",
    "\n",
    "# Exemplo de uso com deque\n",
    "fila = deque()\n",
    "\n",
    "# Inserir no final da fila\n",
    "fila.append(10)\n",
    "fila.append(20)\n",
    "\n",
    "# Remover do início da fila\n",
    "print(fila.popleft())  # Saída: 10\n",
    "print(fila.popleft())  # Saída: 20\n",
    "```"
   ]
  },
  {
   "cell_type": "code",
   "execution_count": 2,
   "metadata": {},
   "outputs": [
    {
     "name": "stdout",
     "output_type": "stream",
     "text": [
      "[4, 7, 2]\n",
      "Elemento no início da fila: 4\n",
      "4\n",
      "7\n",
      "2\n",
      "0\n"
     ]
    },
    {
     "data": {
      "text/plain": [
       "'[]'"
      ]
     },
     "execution_count": 2,
     "metadata": {},
     "output_type": "execute_result"
    }
   ],
   "source": [
    "class Pilha:\n",
    "    def __init__(self):\n",
    "        # Usamos uma lista para armazenar os itens\n",
    "        self.items = []\n",
    "\n",
    "    def push(self, item):\n",
    "        # Adiciona um item no topo (final da lista)\n",
    "        self.items.append(item)\n",
    "\n",
    "    def pop(self):\n",
    "        # Remove e retorna o item do topo (final da lista)\n",
    "        if not self.is_empty():\n",
    "            return self.items.pop()\n",
    "        else:\n",
    "            raise IndexError(\"Pilha vazia! Não é possível remover elementos.\")\n",
    "\n",
    "    def read(self):\n",
    "        # Retorna o item do topo sem removê-lo\n",
    "        if not self.is_empty():\n",
    "            return self.items[-1]\n",
    "        else:\n",
    "            raise IndexError(\"Pilha vazia! Não é possível ler o topo.\")\n",
    "\n",
    "    def is_empty(self):\n",
    "        # Verifica se a pilha está vazia\n",
    "        return len(self.items) == 0\n",
    "\n",
    "class Fila(Pilha):\n",
    "    def __init__(self):\n",
    "        super().__init__()\n",
    "\n",
    "    def pop(self):\n",
    "        # Remove e retorna o item do início da fila\n",
    "        if not self.is_empty():\n",
    "            return self.items.pop(0)\n",
    "        else:\n",
    "            raise IndexError(\"Fila vazia! Não é possível remover elementos.\")\n",
    "\n",
    "    def read(self):\n",
    "        # Retorna o item no início da fila sem removê-lo\n",
    "        if not self.is_empty():\n",
    "            return self.items[0]\n",
    "        else:\n",
    "            raise IndexError(\"Fila vazia! Não é possível ler o início.\")\n",
    "\n",
    "    def __len__(self):\n",
    "        # Retorna o tamanho da fila\n",
    "        return len(self.items)\n",
    "\n",
    "    def __repr__(self):\n",
    "        # Representação da fila no mesmo formato que uma lista\n",
    "        return repr(self.items)\n",
    "\n",
    "# Teste da classe Fila\n",
    "fila = Fila()\n",
    "fila.push(4)\n",
    "fila.push(7)\n",
    "fila.push(2)\n",
    "\n",
    "print(fila)  # Saída: [4, 7, 2]\n",
    "print(f\"Elemento no início da fila: {fila.read()}\")  # Saída: 4\n",
    "\n",
    "print(fila.pop())  # Remove e exibe o primeiro elemento: 4\n",
    "print(fila.pop())  # Remove e exibe o segundo elemento: 7\n",
    "print(fila.pop())  # Remove e exibe o terceiro elemento: 2\n",
    "\n",
    "# Verifica o tamanho da fila\n",
    "print(len(fila))  # Saída: 0\n",
    "\n",
    "repr(fila)\n"
   ]
  },
  {
   "cell_type": "code",
   "execution_count": 3,
   "metadata": {},
   "outputs": [
    {
     "name": "stdout",
     "output_type": "stream",
     "text": [
      "Vector(6, 8)\n"
     ]
    }
   ],
   "source": [
    "class Vector:\n",
    "    def __init__(self, x, y):\n",
    "        self.x = x\n",
    "        self.y = y\n",
    "\n",
    "    def __add__(self, other):\n",
    "        if isinstance(other, Vector):\n",
    "            return Vector(self.x + other.x, self.y + other.y)\n",
    "        return NotImplemented\n",
    "\n",
    "    def __repr__(self):\n",
    "        return f\"Vector({self.x}, {self.y})\"\n",
    "\n",
    "# Usage\n",
    "v1 = Vector(2, 3)\n",
    "v2 = Vector(4, 5)\n",
    "\n",
    "v3 = v1 + v2  # This calls v1.__add__(v2)\n",
    "print(v3)     # Output: Vector(6, 8)\n"
   ]
  },
  {
   "cell_type": "code",
   "execution_count": 4,
   "metadata": {},
   "outputs": [
    {
     "name": "stdout",
     "output_type": "stream",
     "text": [
      "Person(name='John', surname='Doe')\n",
      "Person(name='Michael', surname='Smith')\n"
     ]
    }
   ],
   "source": [
    "class Person:\n",
    "    def __init__(self, name, surname):\n",
    "        # Using __setattr__ to set initial values in __init__\n",
    "        self.name = name\n",
    "        self.surname = surname\n",
    "\n",
    "    def __setattr__(self, name, value):\n",
    "        if name in {\"name\", \"surname\"}:\n",
    "            # Capitalize the value if it's 'name' or 'surname'\n",
    "            value = value.capitalize()\n",
    "        super().__setattr__(name, value)  # Set the attribute\n",
    "\n",
    "    def __repr__(self):\n",
    "        return f\"Person(name='{self.name}', surname='{self.surname}')\"\n",
    "\n",
    "# Usage\n",
    "person = Person(\"john\", \"doe\")\n",
    "print(person)  # Output: Person(name='John', surname='Doe')\n",
    "\n",
    "# Updating attributes\n",
    "person.name = \"michael\"\n",
    "person.surname = \"smith\"\n",
    "print(person)  # Output: Person(name='Michael', surname='Smith')\n"
   ]
  },
  {
   "cell_type": "code",
   "execution_count": 6,
   "metadata": {},
   "outputs": [
    {
     "name": "stdout",
     "output_type": "stream",
     "text": [
      "True\n",
      "False\n"
     ]
    }
   ],
   "source": [
    "class Box:\n",
    "    def __init__(self, length, width, height):\n",
    "        self.length = length\n",
    "        self.width = width\n",
    "        self.height = height\n",
    "\n",
    "    def volume(self):\n",
    "        return self.length * self.width * self.height\n",
    "\n",
    "    def __lt__(self, other):\n",
    "        if isinstance(other, Box):\n",
    "            return self.volume() < other.volume()\n",
    "        return NotImplemented\n",
    "\n",
    "    def __repr__(self):\n",
    "        return f\"Box(length={self.length}, width={self.width}, height={self.height}, volume={self.volume()})\"\n",
    "\n",
    "# Usage\n",
    "box1 = Box(2, 3, 4)  # Volume = 24\n",
    "box2 = Box(3, 3, 3)  # Volume = 27\n",
    "\n",
    "# Compare using <\n",
    "print(box1 < box2)  # Output: True (since 24 < 27)\n",
    "print(box2 < box1)  # Output: False (since 27 > 24)\n"
   ]
  },
  {
   "cell_type": "code",
   "execution_count": 7,
   "metadata": {},
   "outputs": [
    {
     "name": "stdout",
     "output_type": "stream",
     "text": [
      "True\n",
      "False\n"
     ]
    }
   ],
   "source": [
    "class Box:\n",
    "    def __init__(self, length, width, height):\n",
    "        self.length = length\n",
    "        self.width = width\n",
    "        self.height = height\n",
    "\n",
    "    def volume(self):\n",
    "        return self.length * self.width * self.height\n",
    "\n",
    "    def __lt__(self, other):\n",
    "        if isinstance(other, Box):\n",
    "            return self.volume() < other.volume()\n",
    "        return NotImplemented\n",
    "\n",
    "    def __repr__(self):\n",
    "        return f\"Box(length={self.length}, width={self.width}, height={self.height}, volume={self.volume()})\"\n",
    "\n",
    "# Usage\n",
    "box1 = Box(2, 3, 4)  # Volume = 24\n",
    "box2 = Box(3, 3, 3)  # Volume = 27\n",
    "\n",
    "# Compare using <\n",
    "print(box1 < box2)  # Output: True (since 24 < 27)\n",
    "print(box2 < box1)  # Output: False (since 27 > 24)\n"
   ]
  }
 ],
 "metadata": {
  "kernelspec": {
   "display_name": ".venv",
   "language": "python",
   "name": "python3"
  },
  "language_info": {
   "codemirror_mode": {
    "name": "ipython",
    "version": 3
   },
   "file_extension": ".py",
   "mimetype": "text/x-python",
   "name": "python",
   "nbconvert_exporter": "python",
   "pygments_lexer": "ipython3",
   "version": "3.12.7"
  }
 },
 "nbformat": 4,
 "nbformat_minor": 2
}
